{
 "cells": [
  {
   "cell_type": "code",
   "execution_count": 12,
   "metadata": {},
   "outputs": [
    {
     "name": "stdout",
     "output_type": "stream",
     "text": [
      "model_name = llama-2-7b-80k_testPPL_64000\n",
      "   Document Depth  Context Length     Score  \\\n",
      "0            44.0            7513  0.916667   \n",
      "1            11.0           46590  0.916667   \n",
      "2            78.0           49846  0.916667   \n",
      "3            89.0           33564  0.916667   \n",
      "4            67.0           53103  0.916667   \n",
      "\n",
      "                                                PPLs    bt_ppl_cg  \\\n",
      "0  [78.047, 4.219, 1.009, 17.171, 4.442, 1.686, 1...  435918.7250   \n",
      "1  [5.683, 1.002, 3.286, 2.772, 1.682, 1.012, 10....   17948.1780   \n",
      "2  [21.782, 1.007, 10.21, 3.209, 1.013, 2.786, 2....   19853.3205   \n",
      "3  [3.002, 47.632, 202.038, 1.379, 2.01, 27.867, ...   15225.3150   \n",
      "4  [1.608, 1.286, 18.849, 5.328, 52.666, 7.4, 1.6...   32881.7910   \n",
      "\n",
      "    end_ppl_cg  bt_ins_avg_ppl  ed_ins_avg_ppl  \n",
      "0  435918.7250      87201.6645       1574.8318  \n",
      "1   17948.1780       3597.5081       1238.7556  \n",
      "2   19853.3205       3980.2342       1714.5883  \n",
      "3   15225.3150       3081.0149      65142.2633  \n",
      "4   32881.7910       6591.2264        282.3941  \n",
      "Overall score 0.905\n"
     ]
    },
    {
     "name": "stderr",
     "output_type": "stream",
     "text": [
      "Exception ignored in: <bound method IPythonKernel._clean_thread_parent_frames of <ipykernel.ipkernel.IPythonKernel object at 0x7ff9d0f2bca0>>\n",
      "Traceback (most recent call last):\n",
      "  File \"/opt/conda/envs/pan/lib/python3.10/site-packages/ipykernel/ipkernel.py\", line 770, in _clean_thread_parent_frames\n",
      "    def _clean_thread_parent_frames(\n",
      "KeyboardInterrupt: \n"
     ]
    }
   ],
   "source": [
    "import pandas as pd\n",
    "import seaborn as sns\n",
    "import matplotlib.pyplot as plt\n",
    "from matplotlib.colors import LinearSegmentedColormap\n",
    "import pandas as pd\n",
    "import json\n",
    "import glob\n",
    "\n",
    "FOLDER_PATH = \"/vepfs/wcf/G/zecheng/my_repo/Long-Context-Data-Engineering/eval/results/llama-2-7b-80k_testPPL_64000/\"\n",
    "MODEL_NAME = \"LLaMA 2 7B continue-trained on 5B tokens 80K length Per-source length upsampled data\"\n",
    "PRETRAINED_LEN=81920\n",
    "\n",
    "# Path to the directory containing JSON results\n",
    "folder_path = FOLDER_PATH\n",
    "if(\"/\" in folder_path):\n",
    "    model_name = folder_path.split(\"/\")[-2]\n",
    "else: model_name = MODEL_NAME\n",
    "print(\"model_name = %s\" % model_name)\n",
    "\n",
    "# Using glob to find all json files in the directory\n",
    "json_files = glob.glob(f\"{folder_path}*.json\")\n",
    "\n",
    "# List to hold the data\n",
    "data = []\n",
    "data2 = []\n",
    "\n",
    "# Iterating through each file and extract the 3 columns we need\n",
    "for file in json_files:\n",
    "    with open(file, 'r') as f:\n",
    "        json_data = json.load(f)\n",
    "        # Extracting the required fields\n",
    "        document_depth = json_data.get(\"depth_percent\", None)\n",
    "        context_length = json_data.get(\"context_length\", None)\n",
    "        # score = json_data.get(\"score\", None)\n",
    "        model_response = json_data.get(\"model_response\", None).lower()\n",
    "        needle = json_data.get(\"needle\", None).lower()\n",
    "        str_ppls = json_data.get(\"ppls\", None)\n",
    "        shift_st, shift_end = json_data.get(\"shift_st\", None), json_data.get(\"shift_end\", None)\n",
    "        ppls = json.loads(str_ppls) if str_ppls is not None else None\n",
    "        expected_answer = \"eat a sandwich and sit in Dolores Park on a sunny day.\".lower().split()\n",
    "        score = len(set(model_response.split()).intersection(set(expected_answer))) / len(expected_answer)\n",
    "        # Appending to the list\n",
    "        \"\"\"\n",
    "        量化PPLs的变化指标\n",
    "        1. 开头的PPL变化 bt_ppl_cg\n",
    "        2. 结尾的PPL变化 end_ppl_cg\n",
    "        3. 前半句话的PPL bt_ins_avg_ppl\n",
    "        4. 后半句话的PPL ed_ins_avg_ppl\n",
    "        \"\"\"\n",
    "        bt_ppl_cg = abs(sum(ppls[shift_st-2: shift_st]) - sum(ppls[shift_st: shift_st+2])) / 2\n",
    "        end_ppl_cg = abs(sum(ppls[shift_end-2: shift_end]) - sum(ppls[shift_end: shift_end+2])) / 2\n",
    "        bt_ins_avg_ppl = sum(ppls[:shift_st]) / shift_st\n",
    "        ed_ins_avg_ppl = sum(ppls[shift_end: ]) / shift_end\n",
    "        data.append({\"Document Depth\": document_depth, \"Context Length\": context_length,\n",
    "            \"Score\": score, \"PPLs\": ppls, \"bt_ppl_cg\": bt_ppl_cg, \"end_ppl_cg\": end_ppl_cg,  \n",
    "            \"bt_ins_avg_ppl\": bt_ins_avg_ppl, \"ed_ins_avg_ppl\": ed_ins_avg_ppl,\n",
    "        })\n",
    "\n",
    "\n",
    "# Creating a DataFrame\n",
    "df = pd.DataFrame(data)\n",
    "df2 = pd.DataFrame(data2)\n",
    "locations = list(df[\"Context Length\"].unique())\n",
    "locations.sort()\n",
    "for li, l in enumerate(locations):\n",
    "    if(l > PRETRAINED_LEN): break\n",
    "pretrained_len = li\n",
    "\n",
    "print(df.head())\n",
    "print(\"Overall score %.3f\" % df[\"Score\"].mean())\n",
    "\n",
    "sns.jointplot(x=\"bt_ppl_cg\", y=\"end_ppl_cg\", data=df)\n",
    "\n",
    "plt.show()"
   ]
  },
  {
   "cell_type": "code",
   "execution_count": 11,
   "metadata": {},
   "outputs": [
    {
     "name": "stdout",
     "output_type": "stream",
     "text": [
      "(200, 6)\n",
      "     bt_ins_avg_ppl  ed_ins_avg_ppl\n",
      "0      8.720166e+04       1574.8318\n",
      "1      3.597508e+03       1238.7556\n",
      "2      3.980234e+03       1714.5883\n",
      "3      3.081015e+03      65142.2633\n",
      "4      6.591226e+03        282.3941\n",
      "..              ...             ...\n",
      "195    3.552773e+03      34413.7137\n",
      "196    1.922698e+03       9597.3545\n",
      "197    7.865348e+03      20742.2896\n",
      "198    9.932671e+03       5408.1822\n",
      "199    3.189650e+07     604347.1192\n",
      "\n",
      "[200 rows x 2 columns]\n"
     ]
    }
   ],
   "source": [
    "print(df.shape)\n",
    "\n",
    "print(df[[\"bt_ins_avg_ppl\", \"ed_ins_avg_ppl\"]])\n"
   ]
  }
 ],
 "metadata": {
  "kernelspec": {
   "display_name": "pan",
   "language": "python",
   "name": "python3"
  },
  "language_info": {
   "codemirror_mode": {
    "name": "ipython",
    "version": 3
   },
   "file_extension": ".py",
   "mimetype": "text/x-python",
   "name": "python",
   "nbconvert_exporter": "python",
   "pygments_lexer": "ipython3",
   "version": "3.10.14"
  }
 },
 "nbformat": 4,
 "nbformat_minor": 2
}
