{
 "cells": [
  {
   "cell_type": "code",
   "execution_count": 2,
   "metadata": {},
   "outputs": [
    {
     "name": "stderr",
     "output_type": "stream",
     "text": [
      "/opt/conda/envs/pan/lib/python3.10/site-packages/tqdm/auto.py:21: TqdmWarning: IProgress not found. Please update jupyter and ipywidgets. See https://ipywidgets.readthedocs.io/en/stable/user_install.html\n",
      "  from .autonotebook import tqdm as notebook_tqdm\n",
      "/opt/conda/envs/pan/lib/python3.10/site-packages/transformers/utils/generic.py:441: UserWarning: torch.utils._pytree._register_pytree_node is deprecated. Please use torch.utils._pytree.register_pytree_node instead.\n",
      "  _torch_pytree._register_pytree_node(\n",
      "/opt/conda/envs/pan/lib/python3.10/site-packages/transformers/utils/generic.py:309: UserWarning: torch.utils._pytree._register_pytree_node is deprecated. Please use torch.utils._pytree.register_pytree_node instead.\n",
      "  _torch_pytree._register_pytree_node(\n"
     ]
    },
    {
     "name": "stdout",
     "output_type": "stream",
     "text": [
      "\u001b[4m\u001b[36mModelZipper is ready for launch🚀 | Current Version🦄 >>> 0.2.7 <<< | AOE Time🕒 2024-05-07 23:59:14\u001b[0m\n"
     ]
    },
    {
     "name": "stderr",
     "output_type": "stream",
     "text": [
      "/opt/conda/envs/pan/lib/python3.10/site-packages/transformers/utils/generic.py:309: UserWarning: torch.utils._pytree._register_pytree_node is deprecated. Please use torch.utils._pytree.register_pytree_node instead.\n",
      "  _torch_pytree._register_pytree_node(\n",
      "Loading checkpoint shards: 100%|██████████| 3/3 [00:01<00:00,  1.51it/s]\n"
     ]
    }
   ],
   "source": [
    "\"\"\"\n",
    "让模型输出一个低PPL的句子作为key\n",
    "让模型输出一个高PPL的句子作为key\n",
    "\"\"\"\n",
    "\n",
    "from modelzipper.tutils import *\n",
    "import transformers\n",
    "import math\n",
    "\n",
    "model = transformers.AutoModelForCausalLM.from_pretrained(\"/vepfs/wcf/G/zecheng/hf_models/llama-2-7b-80k\").to('cuda:7')\n",
    "tokenizer = transformers.AutoTokenizer.from_pretrained(\"/vepfs/wcf/G/zecheng/hf_models/llama-2-7b-80k\")"
   ]
  },
  {
   "cell_type": "code",
   "execution_count": 6,
   "metadata": {},
   "outputs": [
    {
     "name": "stdout",
     "output_type": "stream",
     "text": [
      "score: 0.39315084111580784 | decode: <s> \n",
      "The best thing to do in San Francisco is to walk around the city. It's a great way to see the sights and get some exercise at the same time.\n",
      "If you're looking for a place to stay, there are a few different options that you can choose from.\n",
      "score: 0.39315084111580784 | decode: <s> \n",
      "The best thing to do in San Francisco is to walk around the city. It's a great way to see the sights and get some exercise at the same time.\n",
      "If you're looking for a place to stay, there are a few different options that you can choose from.\n",
      "score: 0.39315084111580784 | decode: <s> \n",
      "The best thing to do in San Francisco is to walk around the city. It's a great way to see the sights and get some exercise at the same time.\n",
      "If you're looking for a place to stay, there are a few different options that you can choose from.\n",
      "score: 0.38623843899829474 | decode: <s> \n",
      "The best thing to do in San Francisco is to walk around the city. It's a great way to see the sights and get some exercise at the same time.\n",
      "If you're looking for a place to stay, there are a lot of great hotels to choose from.\n",
      "score: 0.38623843899829474 | decode: <s> \n",
      "The best thing to do in San Francisco is to walk around the city. It's a great way to see the sights and get some exercise at the same time.\n",
      "If you're looking for a place to stay, there are a lot of great hotels to choose from.\n",
      "score: 0.38623843899829474 | decode: <s> \n",
      "The best thing to do in San Francisco is to walk around the city. It's a great way to see the sights and get some exercise at the same time.\n",
      "If you're looking for a place to stay, there are a lot of great hotels to choose from.\n",
      "score: 0.3834677370944573 | decode: <s> \n",
      "The best thing to do in San Francisco is to walk around the city. It's a great way to see the sights and get some exercise at the same time.\n",
      "If you're looking for a place to stay, there are a number of great hotels to choose from.\n",
      "score: 0.3834677370944573 | decode: <s> \n",
      "The best thing to do in San Francisco is to walk around the city. It's a great way to see the sights and get some exercise at the same time.\n",
      "If you're looking for a place to stay, there are a number of great hotels to choose from.\n",
      "score: 0.3834677370944573 | decode: <s> \n",
      "The best thing to do in San Francisco is to walk around the city. It's a great way to see the sights and get some exercise at the same time.\n",
      "If you're looking for a place to stay, there are a number of great hotels to choose from.\n",
      "score: 0.3818401640367229 | decode: <s> \n",
      "The best thing to do in San Francisco is to walk around the city. It's a great way to see the sights and get some exercise at the same time.\n",
      "If you're looking for a place to stay, there are a number of hotels and motels in the\n",
      "score: 0.3818401640367229 | decode: <s> \n",
      "The best thing to do in San Francisco is to walk around the city. It's a great way to see the sights and get some exercise at the same time.\n",
      "If you're looking for a place to stay, there are a number of hotels and motels in the\n",
      "score: 0.3818401640367229 | decode: <s> \n",
      "The best thing to do in San Francisco is to walk around the city. It's a great way to see the sights and get some exercise at the same time.\n",
      "If you're looking for a place to stay, there are a number of hotels and motels in the\n",
      "score: 0.37454437383575034 | decode: <s> \n",
      "The best thing to do in San Francisco is to walk around the city. It's a great way to see the sights and get some exercise at the same time.\n",
      "If you're looking for a place to stay, there are a lot of different places to choose from. You\n",
      "score: 0.37454437383575034 | decode: <s> \n",
      "The best thing to do in San Francisco is to walk around the city. It's a great way to see the sights and get some exercise at the same time.\n",
      "If you're looking for a place to stay, there are a lot of different places to choose from. You\n",
      "score: 0.37454437383575034 | decode: <s> \n",
      "The best thing to do in San Francisco is to walk around the city. It's a great way to see the sights and get some exercise at the same time.\n",
      "If you're looking for a place to stay, there are a lot of different places to choose from. You\n",
      "score: 0.3743833142739587 | decode: <s> \n",
      "The best thing to do in San Francisco is to walk around the city. It's a great way to see the sights and get some exercise at the same time.\n",
      "If you're looking for a place to stay, there are a number of hotels that are located in the\n",
      "score: 0.3743833142739587 | decode: <s> \n",
      "The best thing to do in San Francisco is to walk around the city. It's a great way to see the sights and get some exercise at the same time.\n",
      "If you're looking for a place to stay, there are a number of hotels that are located in the\n",
      "score: 0.3743833142739587 | decode: <s> \n",
      "The best thing to do in San Francisco is to walk around the city. It's a great way to see the sights and get some exercise at the same time.\n",
      "If you're looking for a place to stay, there are a number of hotels that are located in the\n",
      "score: 0.3735130610418726 | decode: <s> \n",
      "The best thing to do in San Francisco is to walk around the city. It's a great way to see the sights and get some exercise at the same time.\n",
      "If you're looking for a place to stay, there are a lot of great hotels to choose from in\n",
      "score: 0.3735130610418726 | decode: <s> \n",
      "The best thing to do in San Francisco is to walk around the city. It's a great way to see the sights and get some exercise at the same time.\n",
      "If you're looking for a place to stay, there are a lot of great hotels to choose from in\n",
      "score: 0.3735130610418726 | decode: <s> \n",
      "The best thing to do in San Francisco is to walk around the city. It's a great way to see the sights and get some exercise at the same time.\n",
      "If you're looking for a place to stay, there are a lot of great hotels to choose from in\n",
      "score: 0.37245337354208347 | decode: <s> \n",
      "The best thing to do in San Francisco is to walk around the city. It's a great way to see the sights and get some exercise at the same time.\n",
      "If you're looking for a place to stay, there are a number of hotels and motels to choose\n",
      "score: 0.37245337354208347 | decode: <s> \n",
      "The best thing to do in San Francisco is to walk around the city. It's a great way to see the sights and get some exercise at the same time.\n",
      "If you're looking for a place to stay, there are a number of hotels and motels to choose\n",
      "score: 0.37245337354208347 | decode: <s> \n",
      "The best thing to do in San Francisco is to walk around the city. It's a great way to see the sights and get some exercise at the same time.\n",
      "If you're looking for a place to stay, there are a number of hotels and motels to choose\n",
      "score: 0.3714900336478089 | decode: <s> \n",
      "The best thing to do in San Francisco is to walk around the city. It's a great way to see the sights and get some exercise at the same time.\n",
      "If you're looking for a place to stay, there are a number of great hotels in the area.\n",
      "score: 0.3714900336478089 | decode: <s> \n",
      "The best thing to do in San Francisco is to walk around the city. It's a great way to see the sights and get some exercise at the same time.\n",
      "If you're looking for a place to stay, there are a number of great hotels in the area.\n",
      "score: 0.3703623908994436 | decode: <s> \n",
      "The best thing to do in San Francisco is to walk around the city. It's a great way to see the sights and get some exercise at the same time.\n",
      "If you're looking for a place to stay, there are a number of great hotels to choose from in\n",
      "score: 0.3703623908994436 | decode: <s> \n",
      "The best thing to do in San Francisco is to walk around the city. It's a great way to see the sights and get some exercise at the same time.\n",
      "If you're looking for a place to stay, there are a number of great hotels to choose from in\n",
      "score: 0.3703623908994436 | decode: <s> \n",
      "The best thing to do in San Francisco is to walk around the city. It's a great way to see the sights and get some exercise at the same time.\n",
      "If you're looking for a place to stay, there are a number of great hotels to choose from in\n",
      "score: 0.36872465644791 | decode: <s> \n",
      "The best thing to do in San Francisco is to walk around the city. It's a great way to see the sights and get some exercise at the same time.\n",
      "If you're looking for a place to stay, there are a number of hotels and motels that are\n",
      "score: 0.36872465644791 | decode: <s> \n",
      "The best thing to do in San Francisco is to walk around the city. It's a great way to see the sights and get some exercise at the same time.\n",
      "If you're looking for a place to stay, there are a number of hotels and motels that are\n",
      "score: 0.3686105658728189 | decode: <s> \n",
      "The best thing to do in San Francisco is to walk around the city. It's a great way to see the sights and get some exercise at the same time.\n",
      "If you're looking for a place to stay, there are a number of hotels in the area. The\n"
     ]
    }
   ],
   "source": [
    "PROMPT = \"\\nThe best thing to do in San Francisco is eat a sandwich and sit in Dolores Park on a sunny day.\\n\"\n",
    "KEY, VALUE = \"\\nThe best thing to do in San Francisco is\", \"eat a sandwich and sit in Dolores Park on a sunny day.\\n\"\n",
    "num_sequence = 32\n",
    "\n",
    "input_ids = tokenizer(KEY, return_tensors='pt').input_ids.to(model.device)\n",
    "value_ids_len = tokenizer(VALUE, return_tensors='pt').input_ids.size(-1)\n",
    "candidates = model.generate(input_ids, num_beams=num_sequence, num_return_sequences=num_sequence, penalty_alpha=0.6, no_repeat_ngram_size=2, temperature=0.7, top_p=0.95, do_sample=True, min_new_tokens=value_ids_len, max_new_tokens=value_ids_len + 32, return_dict_in_generate=True, output_scores=True)\n",
    "\n",
    "sequences_scores = candidates['sequences_scores']\n",
    "outputs = candidates.sequences\n",
    "\n",
    "for score, output in zip(sequences_scores, outputs):\n",
    "    res = tokenizer.decode(output)\n",
    "    print(f\"score: {math.exp(score)} | decode: {res}\")"
   ]
  }
 ],
 "metadata": {
  "kernelspec": {
   "display_name": "pan",
   "language": "python",
   "name": "python3"
  },
  "language_info": {
   "codemirror_mode": {
    "name": "ipython",
    "version": 3
   },
   "file_extension": ".py",
   "mimetype": "text/x-python",
   "name": "python",
   "nbconvert_exporter": "python",
   "pygments_lexer": "ipython3",
   "version": "3.10.14"
  }
 },
 "nbformat": 4,
 "nbformat_minor": 2
}
